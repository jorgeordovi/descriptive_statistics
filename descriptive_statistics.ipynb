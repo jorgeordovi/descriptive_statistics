{
 "cells": [
  {
   "cell_type": "code",
   "execution_count": 21,
   "metadata": {},
   "outputs": [],
   "source": [
    "import numpy as np"
   ]
  },
  {
   "cell_type": "markdown",
   "metadata": {},
   "source": [
    "$$ \\overline{x} = \\frac{8 +5 + (-1)}{3} = 4 $$"
   ]
  },
  {
   "cell_type": "markdown",
   "metadata": {},
   "source": [
    "### Median"
   ]
  },
  {
   "cell_type": "markdown",
   "metadata": {},
   "source": [
    "- If odds: Median ="
   ]
  },
  {
   "cell_type": "markdown",
   "metadata": {},
   "source": [
    "$$ x_{(\\frac{(n+1)}{2})} $$\n"
   ]
  },
  {
   "cell_type": "markdown",
   "metadata": {},
   "source": [
    "- If even: Median ="
   ]
  },
  {
   "cell_type": "markdown",
   "metadata": {},
   "source": [
    "$$ \\frac{x_{(\\frac{n}{2}){^+{^x(\\frac{n}{2}+1)}}}}{2} $$ "
   ]
  },
  {
   "cell_type": "markdown",
   "metadata": {},
   "source": [
    "- n total number of observations\n",
    "- $x_i$ are individual data values"
   ]
  },
  {
   "cell_type": "markdown",
   "metadata": {},
   "source": [
    "## Variance"
   ]
  },
  {
   "cell_type": "markdown",
   "metadata": {},
   "source": [
    "- For Population"
   ]
  },
  {
   "cell_type": "markdown",
   "metadata": {},
   "source": [
    "$ \\sigma^2 = \\frac{1}{N}\\sum^n_{i=1}(x_i-\\mu)^2 $"
   ]
  },
  {
   "cell_type": "markdown",
   "metadata": {},
   "source": [
    "- For Sample"
   ]
  },
  {
   "cell_type": "markdown",
   "metadata": {},
   "source": [
    "$ s^2=\\frac{1}{n-1}\\sum^n_{i=1}(x_i - \\overline{x} )^2 $"
   ]
  },
  {
   "cell_type": "markdown",
   "metadata": {},
   "source": [
    "- Standard Deviation"
   ]
  },
  {
   "cell_type": "markdown",
   "metadata": {},
   "source": [
    "$ \\sigma = \\sqrt{\\frac{1}{N}\\sum^N_{i=1}(x_i - \\mu)^2} $"
   ]
  },
  {
   "cell_type": "markdown",
   "metadata": {},
   "source": [
    "- Variation Coeficient"
   ]
  },
  {
   "cell_type": "markdown",
   "metadata": {},
   "source": [
    "$ CV = \\frac{s}{\\overline{x}}\\times 100\\% $"
   ]
  },
  {
   "cell_type": "code",
   "execution_count": 22,
   "metadata": {},
   "outputs": [],
   "source": [
    "import statistics"
   ]
  },
  {
   "cell_type": "code",
   "execution_count": 23,
   "metadata": {},
   "outputs": [],
   "source": [
    "data = [10,15,15,18,20,25,30,30,30,35,40]\n"
   ]
  },
  {
   "cell_type": "code",
   "execution_count": 24,
   "metadata": {},
   "outputs": [
    {
     "name": "stdout",
     "output_type": "stream",
     "text": [
      "24.363636363636363\n"
     ]
    }
   ],
   "source": [
    "mean = statistics.mean(data)\n",
    "print(mean)"
   ]
  },
  {
   "cell_type": "code",
   "execution_count": 25,
   "metadata": {},
   "outputs": [
    {
     "name": "stdout",
     "output_type": "stream",
     "text": [
      "25\n"
     ]
    }
   ],
   "source": [
    "median = statistics.median(data)\n",
    "print(median)"
   ]
  },
  {
   "cell_type": "code",
   "execution_count": 26,
   "metadata": {},
   "outputs": [
    {
     "name": "stdout",
     "output_type": "stream",
     "text": [
      "30\n"
     ]
    }
   ],
   "source": [
    "try:\n",
    "    mode=statistics.mode(data)\n",
    "    print(mode)\n",
    "except statistics.StatisticsError as e:\n",
    "    print(\"No se puede ejecutar la unica Moda:{e}\")"
   ]
  },
  {
   "cell_type": "code",
   "execution_count": 27,
   "metadata": {},
   "outputs": [
    {
     "name": "stdout",
     "output_type": "stream",
     "text": [
      "40\n",
      "10\n",
      "30\n"
     ]
    }
   ],
   "source": [
    "range_value=max(data)-min(data)\n",
    "print(max(data))\n",
    "print(min(data))\n",
    "print(range_value)"
   ]
  },
  {
   "cell_type": "code",
   "execution_count": 28,
   "metadata": {},
   "outputs": [
    {
     "name": "stdout",
     "output_type": "stream",
     "text": [
      "89.45454545454545\n"
     ]
    }
   ],
   "source": [
    "variance = statistics.variance(data)\n",
    "print(variance)"
   ]
  },
  {
   "cell_type": "code",
   "execution_count": 29,
   "metadata": {},
   "outputs": [
    {
     "name": "stdout",
     "output_type": "stream",
     "text": [
      "9.458041311738148\n"
     ]
    }
   ],
   "source": [
    "\n",
    "std_dev=statistics.stdev(data)\n",
    "print(std_dev)"
   ]
  },
  {
   "cell_type": "markdown",
   "metadata": {},
   "source": [
    "## ASOCIATION MEASURES"
   ]
  },
  {
   "cell_type": "markdown",
   "metadata": {},
   "source": [
    "- Covariance"
   ]
  },
  {
   "cell_type": "markdown",
   "metadata": {},
   "source": [
    "$ Cov(X,Y) = \\frac{1}{n-1}\\sum^n_{i=1}(x_i - \\overline{x}) (y_i - \\overline{y}) $"
   ]
  },
  {
   "cell_type": "markdown",
   "metadata": {},
   "source": [
    "\\begin{aligned}\n",
    "\\mathbf{Matriz }{de }{Covarianzas}\n",
    "&=\n",
    "\\begin{pmatrix}\n",
    "Cov_{(X_1.X_1)} & Cov_{(X_1.X_2)} & \\cdots & Cov_{(X_1.X_n)} \\\\\n",
    "Cov_{(X_2.X_1)} & Cov_{(X_2.X_2)} & \\cdots & Cov_{(X_2.X_n)} \\\\\n",
    "\\vdots & \\vdots & \\ddots & \\vdots \\\\\n",
    "Cov_{(X_n.X_1)} & Cov_{(X_n.X_2)} & \\cdots & Cov_{(X_n.X_n)} \\\\\n",
    "\\end{pmatrix}\n",
    "\\end{aligned}"
   ]
  },
  {
   "cell_type": "markdown",
   "metadata": {},
   "source": [
    "- Correlation"
   ]
  },
  {
   "cell_type": "markdown",
   "metadata": {},
   "source": [
    "    -Measure between 2 variable taking into account direction . Measuring the force of the relation independetn from variables"
   ]
  },
  {
   "cell_type": "markdown",
   "metadata": {},
   "source": [
    "## Types of correlation "
   ]
  },
  {
   "cell_type": "markdown",
   "metadata": {},
   "source": [
    "- Pearson Correlation "
   ]
  },
  {
   "cell_type": "markdown",
   "metadata": {},
   "source": [
    "Measures the linear relation between two variables. Their valus go from -1 to 1\n",
    "\n",
    "    - 1 indicates perfect positive correlation \n",
    "\n",
    "    - -1 indicates perfect negative correlation\n",
    "\n",
    "    - 0 indicates no correlation "
   ]
  },
  {
   "cell_type": "markdown",
   "metadata": {},
   "source": [
    "$ r = \\frac {\\sum^n_{i=1}(x_i - \\overline{x})(y_i - \\overline{y})}{\\sqrt{\\sum^n_{i=1}(x_i - \\overline{x})^2 \\sum^n_{i=1}(y_i - \\overline{y})^2}} $"
   ]
  },
  {
   "cell_type": "markdown",
   "metadata": {},
   "source": [
    "$ \\overline{x} = \\frac{1+2+3+4+5}{5}=3 $"
   ]
  },
  {
   "cell_type": "markdown",
   "metadata": {},
   "source": [
    "$ \\overline{y} = \\frac{1+4+9+16+25}{5}=11 $"
   ]
  },
  {
   "cell_type": "markdown",
   "metadata": {},
   "source": [
    "![alt text](correl.PNG)"
   ]
  },
  {
   "cell_type": "markdown",
   "metadata": {},
   "source": [
    "$$\n",
    "\\begin{aligned}\n",
    "& \\text {Pearson Method }\\\\\n",
    "&\\begin{array}{cccccc}\n",
    "\\hline \\hline \\ { x_i } & \\ { y_i } & \\ { (x_i - \\overline{x}) } & \\ { (y_i - \\overline{x})^2} & \\ { (y_i - \\overline{y})^2 } \\\\\n",
    "\\hline 1 & 1 & -27 & -10 & 4 & 100 \\\\\n",
    "2 & 4 & -1 & -7 & 1 & 49\\\\\n",
    "3 & 9 & 0 & -2 & 0 & 4 \\\\\n",
    "4 & 16 & 1 & 5 & 1 & 25 \\\\\n",
    "5 & 25 & 2 & 14 & 4 & 196\\\\\n",
    "\\text {TOTAL} & & & & 10 & 374\\\\\n",
    "\\hline\n",
    "\\end{array}\n",
    "\\end{aligned}\n",
    "$$"
   ]
  },
  {
   "cell_type": "markdown",
   "metadata": {},
   "source": [
    "$ r = \\frac {\\sum^n_{i=1}(x_i - \\overline{x})(y_i - \\overline{y})}{\\sqrt{\\sum^n_{i=1}(x_i - \\overline{x})^2 \\sum^n_{i=1}(y_i - \\overline{y})^2}} = \\frac{60}{\\sqrt{10 \\times 374}} = \\frac{60}{\\sqrt{3740}} = \\frac{60}{61.16} \\approx 0.98 $"
   ]
  },
  {
   "cell_type": "markdown",
   "metadata": {},
   "source": [
    "- Pearson Spearman"
   ]
  },
  {
   "cell_type": "markdown",
   "metadata": {},
   "source": [
    "    -Measures the monotonic relation between two variables using ranges instead of original values. Useful for non-linear data"
   ]
  },
  {
   "cell_type": "markdown",
   "metadata": {},
   "source": [
    "$ r_s = 1 - \\frac{6\\sum{d^2_i}}{n(n^2 - 1)} $"
   ]
  },
  {
   "cell_type": "markdown",
   "metadata": {},
   "source": [
    "$$\n",
    "\\begin{aligned}\n",
    "& \\text {Pearson Method }\\\\\n",
    "&\\begin{array}{cccccc}\n",
    "\\hline \\hline \\ X_i & Y_i & \\text { Range(X) } & \\text { Range(Y) } & d_i \\text {= Range(X) -  Range(Y)} & { d^2_i } \\\\\n",
    "\\hline 1 & 1 & 1 & -1 & 0 & 0 \\\\\n",
    "2 & 4 & 2 & 2 & 0 & 0\\\\\n",
    "3 & 9 & 3 & 3 & 0 & 0 \\\\\n",
    "4 & 16 & 4 & 4 & 0 & 0 \\\\\n",
    "5 & 25 & 5 & 5 & 0 & 0\\\\\n",
    "\\hline\n",
    "\\end{array}\n",
    "\\end{aligned}\n",
    "$$"
   ]
  },
  {
   "cell_type": "markdown",
   "metadata": {},
   "source": [
    "$ r_s = 1 - \\frac{6\\sum{d^2_i}}{n(n^2 - 1)} = 1-\\frac{6 \\times 0}{5(25 - 1)} = 1-\\frac{0}{120}=1 $"
   ]
  },
  {
   "cell_type": "code",
   "execution_count": 30,
   "metadata": {},
   "outputs": [],
   "source": [
    "from scipy import stats"
   ]
  },
  {
   "cell_type": "code",
   "execution_count": 31,
   "metadata": {},
   "outputs": [],
   "source": [
    "data_x=[10,15,20,25,30]\n",
    "data_y=[12,18,25,35,40]"
   ]
  },
  {
   "cell_type": "markdown",
   "metadata": {},
   "source": [
    "Start by mesuring covariance"
   ]
  },
  {
   "cell_type": "code",
   "execution_count": 32,
   "metadata": {},
   "outputs": [
    {
     "name": "stdout",
     "output_type": "stream",
     "text": [
      "91.25\n"
     ]
    }
   ],
   "source": [
    "covariance_matrix=np.cov(data_x,data_y)\n",
    "covariance=covariance_matrix[0,1]\n",
    "print(covariance)"
   ]
  },
  {
   "cell_type": "markdown",
   "metadata": {},
   "source": [
    "Measure force with Pearson to look for realtion and correlation "
   ]
  },
  {
   "cell_type": "code",
   "execution_count": 33,
   "metadata": {},
   "outputs": [
    {
     "name": "stdout",
     "output_type": "stream",
     "text": [
      "0.9952489367473116\n"
     ]
    }
   ],
   "source": [
    "correlation, _ = stats.pearsonr(data_x,data_y)\n",
    "print(correlation)"
   ]
  },
  {
   "cell_type": "markdown",
   "metadata": {},
   "source": [
    "Measure with Spearman not for montonic measuremment- but using data ranges rather than value"
   ]
  },
  {
   "cell_type": "code",
   "execution_count": 34,
   "metadata": {},
   "outputs": [],
   "source": [
    "spearman_corr, _ = stats.spearmanr(data_x,data_y)"
   ]
  },
  {
   "cell_type": "code",
   "execution_count": 35,
   "metadata": {},
   "outputs": [
    {
     "name": "stdout",
     "output_type": "stream",
     "text": [
      "0.9999999999999999\n"
     ]
    }
   ],
   "source": [
    "print(spearman_corr)"
   ]
  },
  {
   "cell_type": "markdown",
   "metadata": {},
   "source": [
    "Measure with Kendall Correlation \n"
   ]
  },
  {
   "cell_type": "code",
   "execution_count": 36,
   "metadata": {},
   "outputs": [],
   "source": [
    "kendall_corr,_=stats.kendalltau(data_x,data_y)"
   ]
  },
  {
   "cell_type": "code",
   "execution_count": 37,
   "metadata": {},
   "outputs": [
    {
     "name": "stdout",
     "output_type": "stream",
     "text": [
      "0.9999999999999999\n"
     ]
    }
   ],
   "source": [
    "print(kendall_corr)"
   ]
  },
  {
   "cell_type": "markdown",
   "metadata": {},
   "source": [
    "--------------------------------------------"
   ]
  },
  {
   "cell_type": "markdown",
   "metadata": {},
   "source": [
    "## Position Measurements"
   ]
  },
  {
   "cell_type": "markdown",
   "metadata": {},
   "source": [
    "- Positionmeasurements describe the location of data sets within the distribution. This measuremments help comperhend the distribution and dispersion of the data. The most common position measurements are the percentiles the quartiles and the inter-quartile range. "
   ]
  },
  {
   "cell_type": "markdown",
   "metadata": {},
   "source": [
    "### Percentiles"
   ]
  },
  {
   "cell_type": "markdown",
   "metadata": {},
   "source": [
    "$$ P_k = X_{(K(n+1)\\div 100)}"
   ]
  },
  {
   "cell_type": "markdown",
   "metadata": {},
   "source": [
    "![alt text](perc.PNG)"
   ]
  },
  {
   "cell_type": "markdown",
   "metadata": {},
   "source": [
    "- CUARTILES\n",
    "\n",
    "    - First quarter(Q1)is percentile 25\n",
    "    - Second quarter(Q2)is percentile 50 (Median)\n",
    "    - Third quarter(Q3) is percentile 75\n"
   ]
  },
  {
   "cell_type": "markdown",
   "metadata": {},
   "source": [
    "$$ Q1 = P_25, Q2 = P_50 , Q3 = P_75"
   ]
  },
  {
   "cell_type": "markdown",
   "metadata": {},
   "source": [
    "- BOX PLOTS"
   ]
  },
  {
   "cell_type": "markdown",
   "metadata": {},
   "source": [
    "    - It plots the quarter distribution in a data set showing the median, the quartiles and the atipical values (outliers).\n",
    "        This type of pgraph is useful to identify the asymetric dispersion and data asymetry"
   ]
  },
  {
   "cell_type": "markdown",
   "metadata": {},
   "source": [
    "components :"
   ]
  },
  {
   "cell_type": "markdown",
   "metadata": {},
   "source": [
    "    - Box: - Represents the interquarter range (IQR) . Goes from Q1 to Q3. The (IQR) contains 50% central data.\n",
    "           - The Borders of the Box are Q1 and Q3"
   ]
  },
  {
   "cell_type": "markdown",
   "metadata": {},
   "source": [
    "    - Median line: Represents Q2 inside the data set"
   ]
  },
  {
   "cell_type": "markdown",
   "metadata": {},
   "source": [
    "    - Whiskers: Extend from the box borders (Q1 y Q3) to the smallest values to the biggest  within 1.5 to 3 times the IQR fro the quarters"
   ]
  },
  {
   "cell_type": "markdown",
   "metadata": {},
   "source": [
    "$$ Lower Whisker = Q1 - 1.5 \\times IQR"
   ]
  },
  {
   "cell_type": "markdown",
   "metadata": {},
   "source": [
    "$$ Upper Whisker = Q3 + 1.5 \\times IQR"
   ]
  },
  {
   "cell_type": "markdown",
   "metadata": {},
   "source": [
    "    - Atypical Values (Outliers): Values found outside the whisker limitare considered outliers and are represented as point inside the graph"
   ]
  },
  {
   "cell_type": "markdown",
   "metadata": {},
   "source": [
    "![alt text](boxp.PNG)"
   ]
  },
  {
   "cell_type": "markdown",
   "metadata": {},
   "source": [
    "![alt text](box_at.PNG)"
   ]
  },
  {
   "cell_type": "markdown",
   "metadata": {},
   "source": []
  }
 ],
 "metadata": {
  "kernelspec": {
   "display_name": "Python 3 (ipykernel)",
   "language": "python",
   "name": "python3"
  },
  "language_info": {
   "codemirror_mode": {
    "name": "ipython",
    "version": 3
   },
   "file_extension": ".py",
   "mimetype": "text/x-python",
   "name": "python",
   "nbconvert_exporter": "python",
   "pygments_lexer": "ipython3",
   "version": "3.10.9"
  }
 },
 "nbformat": 4,
 "nbformat_minor": 2
}
